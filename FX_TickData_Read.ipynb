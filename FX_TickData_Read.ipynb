{
 "cells": [
  {
   "cell_type": "markdown",
   "metadata": {},
   "source": [
    "## Tickデータのダウンロード\n",
    "GainCapitalより1週間単位でTickデータのダウンロードができます。\n",
    "http://ratedata.gaincapital.com/"
   ]
  },
  {
   "cell_type": "markdown",
   "metadata": {},
   "source": [
    "### pandasでCSVファイルを読み込み\n",
    "pandasは、プログラミング言語Pythonにおいて、データ解析を支援する機能を提供するライブラリです。pandasを用いてGain Capital Dataの取得をします。\n",
    "まずは、pandasをインポートします"
   ]
  },
  {
   "cell_type": "code",
   "execution_count": 1,
   "metadata": {
    "collapsed": true
   },
   "outputs": [],
   "source": [
    "import pandas as pd"
   ]
  },
  {
   "cell_type": "markdown",
   "metadata": {},
   "source": [
    "次にCSVをread_csvで読み込みます。\n",
    "skiprowsにより最初の行を飛ばし、namesによりcolumnに名前を与えています。\n",
    "indexはDateTimeにしています。"
   ]
  },
  {
   "cell_type": "code",
   "execution_count": 3,
   "metadata": {},
   "outputs": [
    {
     "data": {
      "text/html": [
       "<div>\n",
       "<style>\n",
       "    .dataframe thead tr:only-child th {\n",
       "        text-align: right;\n",
       "    }\n",
       "\n",
       "    .dataframe thead th {\n",
       "        text-align: left;\n",
       "    }\n",
       "\n",
       "    .dataframe tbody tr th {\n",
       "        vertical-align: top;\n",
       "    }\n",
       "</style>\n",
       "<table border=\"1\" class=\"dataframe\">\n",
       "  <thead>\n",
       "    <tr style=\"text-align: right;\">\n",
       "      <th></th>\n",
       "      <th>Tid</th>\n",
       "      <th>Dealable</th>\n",
       "      <th>Pair</th>\n",
       "      <th>Buy</th>\n",
       "      <th>Sell</th>\n",
       "    </tr>\n",
       "    <tr>\n",
       "      <th>DateTime</th>\n",
       "      <th></th>\n",
       "      <th></th>\n",
       "      <th></th>\n",
       "      <th></th>\n",
       "      <th></th>\n",
       "    </tr>\n",
       "  </thead>\n",
       "  <tbody>\n",
       "    <tr>\n",
       "      <th>2018-12-09 17:00:23.847000000</th>\n",
       "      <td>7151091741</td>\n",
       "      <td>D</td>\n",
       "      <td>USD/JPY</td>\n",
       "      <td>112.611</td>\n",
       "      <td>112.638</td>\n",
       "    </tr>\n",
       "    <tr>\n",
       "      <th>2018-12-09 17:00:42.097000000</th>\n",
       "      <td>7151091859</td>\n",
       "      <td>D</td>\n",
       "      <td>USD/JPY</td>\n",
       "      <td>112.612</td>\n",
       "      <td>112.638</td>\n",
       "    </tr>\n",
       "    <tr>\n",
       "      <th>2018-12-09 17:01:11.597000000</th>\n",
       "      <td>7151092010</td>\n",
       "      <td>D</td>\n",
       "      <td>USD/JPY</td>\n",
       "      <td>112.611</td>\n",
       "      <td>112.638</td>\n",
       "    </tr>\n",
       "    <tr>\n",
       "      <th>2018-12-09 17:01:35.097000000</th>\n",
       "      <td>7151092147</td>\n",
       "      <td>D</td>\n",
       "      <td>USD/JPY</td>\n",
       "      <td>112.611</td>\n",
       "      <td>112.639</td>\n",
       "    </tr>\n",
       "    <tr>\n",
       "      <th>2018-12-09 17:01:52.097000000</th>\n",
       "      <td>7151092197</td>\n",
       "      <td>D</td>\n",
       "      <td>USD/JPY</td>\n",
       "      <td>112.619</td>\n",
       "      <td>112.655</td>\n",
       "    </tr>\n",
       "  </tbody>\n",
       "</table>\n",
       "</div>"
      ],
      "text/plain": [
       "                                      Tid Dealable     Pair      Buy     Sell\n",
       "DateTime                                                                     \n",
       "2018-12-09 17:00:23.847000000  7151091741        D  USD/JPY  112.611  112.638\n",
       "2018-12-09 17:00:42.097000000  7151091859        D  USD/JPY  112.612  112.638\n",
       "2018-12-09 17:01:11.597000000  7151092010        D  USD/JPY  112.611  112.638\n",
       "2018-12-09 17:01:35.097000000  7151092147        D  USD/JPY  112.611  112.639\n",
       "2018-12-09 17:01:52.097000000  7151092197        D  USD/JPY  112.619  112.655"
      ]
     },
     "execution_count": 3,
     "metadata": {},
     "output_type": "execute_result"
    }
   ],
   "source": [
    "# データーの読み込み\n",
    "df = pd.read_csv('D:\\\\temp\\\\USD_JPY_Week2.csv', index_col='DateTime', names=['Tid', 'Dealable', 'Pair', 'DateTime', 'Buy', 'Sell'], skiprows=1)\n",
    "# データフレームの最初の5行を表示する\n",
    "df.head()"
   ]
  },
  {
   "cell_type": "markdown",
   "metadata": {},
   "source": [
    "不要なカラムを削除します"
   ]
  },
  {
   "cell_type": "code",
   "execution_count": 4,
   "metadata": {},
   "outputs": [
    {
     "data": {
      "text/html": [
       "<div>\n",
       "<style>\n",
       "    .dataframe thead tr:only-child th {\n",
       "        text-align: right;\n",
       "    }\n",
       "\n",
       "    .dataframe thead th {\n",
       "        text-align: left;\n",
       "    }\n",
       "\n",
       "    .dataframe tbody tr th {\n",
       "        vertical-align: top;\n",
       "    }\n",
       "</style>\n",
       "<table border=\"1\" class=\"dataframe\">\n",
       "  <thead>\n",
       "    <tr style=\"text-align: right;\">\n",
       "      <th></th>\n",
       "      <th>Buy</th>\n",
       "      <th>Sell</th>\n",
       "    </tr>\n",
       "    <tr>\n",
       "      <th>DateTime</th>\n",
       "      <th></th>\n",
       "      <th></th>\n",
       "    </tr>\n",
       "  </thead>\n",
       "  <tbody>\n",
       "    <tr>\n",
       "      <th>2018-12-09 17:00:23.847000000</th>\n",
       "      <td>112.611</td>\n",
       "      <td>112.638</td>\n",
       "    </tr>\n",
       "    <tr>\n",
       "      <th>2018-12-09 17:00:42.097000000</th>\n",
       "      <td>112.612</td>\n",
       "      <td>112.638</td>\n",
       "    </tr>\n",
       "    <tr>\n",
       "      <th>2018-12-09 17:01:11.597000000</th>\n",
       "      <td>112.611</td>\n",
       "      <td>112.638</td>\n",
       "    </tr>\n",
       "    <tr>\n",
       "      <th>2018-12-09 17:01:35.097000000</th>\n",
       "      <td>112.611</td>\n",
       "      <td>112.639</td>\n",
       "    </tr>\n",
       "    <tr>\n",
       "      <th>2018-12-09 17:01:52.097000000</th>\n",
       "      <td>112.619</td>\n",
       "      <td>112.655</td>\n",
       "    </tr>\n",
       "  </tbody>\n",
       "</table>\n",
       "</div>"
      ],
      "text/plain": [
       "                                   Buy     Sell\n",
       "DateTime                                       \n",
       "2018-12-09 17:00:23.847000000  112.611  112.638\n",
       "2018-12-09 17:00:42.097000000  112.612  112.638\n",
       "2018-12-09 17:01:11.597000000  112.611  112.638\n",
       "2018-12-09 17:01:35.097000000  112.611  112.639\n",
       "2018-12-09 17:01:52.097000000  112.619  112.655"
      ]
     },
     "execution_count": 4,
     "metadata": {},
     "output_type": "execute_result"
    }
   ],
   "source": [
    "# 不要な３カラムを削除する\n",
    "del df['Tid']\n",
    "del df['Dealable']\n",
    "del df['Pair']\n",
    "# 再度確認する\n",
    "df.head()"
   ]
  },
  {
   "cell_type": "markdown",
   "metadata": {},
   "source": [
    "1週間の全ディック数を確認します"
   ]
  },
  {
   "cell_type": "code",
   "execution_count": 5,
   "metadata": {},
   "outputs": [
    {
     "data": {
      "text/plain": [
       "(361841, 2)"
      ]
     },
     "execution_count": 5,
     "metadata": {},
     "output_type": "execute_result"
    }
   ],
   "source": [
    "df.shape"
   ]
  },
  {
   "cell_type": "markdown",
   "metadata": {},
   "source": [
    "次にデータの欠損値を確認します"
   ]
  },
  {
   "cell_type": "code",
   "execution_count": 6,
   "metadata": {},
   "outputs": [
    {
     "data": {
      "text/plain": [
       "Buy     0\n",
       "Sell    0\n",
       "dtype: int64"
      ]
     },
     "execution_count": 6,
     "metadata": {},
     "output_type": "execute_result"
    }
   ],
   "source": [
    "# データの欠損値を確認する\n",
    "df.isnull().sum()"
   ]
  },
  {
   "cell_type": "markdown",
   "metadata": {},
   "source": [
    "欠損値はなさそうです"
   ]
  },
  {
   "cell_type": "markdown",
   "metadata": {},
   "source": [
    "### ティックデータから分足データに変換する"
   ]
  },
  {
   "cell_type": "code",
   "execution_count": 7,
   "metadata": {},
   "outputs": [
    {
     "data": {
      "text/html": [
       "<div>\n",
       "<style>\n",
       "    .dataframe thead tr:only-child th {\n",
       "        text-align: right;\n",
       "    }\n",
       "\n",
       "    .dataframe thead th {\n",
       "        text-align: left;\n",
       "    }\n",
       "\n",
       "    .dataframe tbody tr th {\n",
       "        vertical-align: top;\n",
       "    }\n",
       "</style>\n",
       "<table border=\"1\" class=\"dataframe\">\n",
       "  <thead>\n",
       "    <tr style=\"text-align: right;\">\n",
       "      <th></th>\n",
       "      <th>Buy</th>\n",
       "      <th>Sell</th>\n",
       "    </tr>\n",
       "    <tr>\n",
       "      <th>DateTime</th>\n",
       "      <th></th>\n",
       "      <th></th>\n",
       "    </tr>\n",
       "  </thead>\n",
       "  <tbody>\n",
       "    <tr>\n",
       "      <th>2018-12-09 17:00:23.847</th>\n",
       "      <td>112.611</td>\n",
       "      <td>112.638</td>\n",
       "    </tr>\n",
       "    <tr>\n",
       "      <th>2018-12-09 17:00:42.097</th>\n",
       "      <td>112.612</td>\n",
       "      <td>112.638</td>\n",
       "    </tr>\n",
       "    <tr>\n",
       "      <th>2018-12-09 17:01:11.597</th>\n",
       "      <td>112.611</td>\n",
       "      <td>112.638</td>\n",
       "    </tr>\n",
       "    <tr>\n",
       "      <th>2018-12-09 17:01:35.097</th>\n",
       "      <td>112.611</td>\n",
       "      <td>112.639</td>\n",
       "    </tr>\n",
       "    <tr>\n",
       "      <th>2018-12-09 17:01:52.097</th>\n",
       "      <td>112.619</td>\n",
       "      <td>112.655</td>\n",
       "    </tr>\n",
       "  </tbody>\n",
       "</table>\n",
       "</div>"
      ],
      "text/plain": [
       "                             Buy     Sell\n",
       "DateTime                                 \n",
       "2018-12-09 17:00:23.847  112.611  112.638\n",
       "2018-12-09 17:00:42.097  112.612  112.638\n",
       "2018-12-09 17:01:11.597  112.611  112.638\n",
       "2018-12-09 17:01:35.097  112.611  112.639\n",
       "2018-12-09 17:01:52.097  112.619  112.655"
      ]
     },
     "execution_count": 7,
     "metadata": {},
     "output_type": "execute_result"
    }
   ],
   "source": [
    "# データフレームのインデックスをto_datetimeで変換する\n",
    "df.index = pd.to_datetime(df.index)\n",
    "df.head()"
   ]
  },
  {
   "cell_type": "markdown",
   "metadata": {},
   "source": [
    "1分足のデータに変換する"
   ]
  },
  {
   "cell_type": "code",
   "execution_count": 14,
   "metadata": {
    "scrolled": true
   },
   "outputs": [
    {
     "name": "stderr",
     "output_type": "stream",
     "text": [
      "C:\\Program Files\\Anaconda3\\lib\\site-packages\\ipykernel_launcher.py:2: FutureWarning: how in .resample() is deprecated\n",
      "the new syntax is .resample(...).ohlc()\n",
      "  \n"
     ]
    },
    {
     "data": {
      "text/html": [
       "<div>\n",
       "<style>\n",
       "    .dataframe thead tr:only-child th {\n",
       "        text-align: right;\n",
       "    }\n",
       "\n",
       "    .dataframe thead th {\n",
       "        text-align: left;\n",
       "    }\n",
       "\n",
       "    .dataframe tbody tr th {\n",
       "        vertical-align: top;\n",
       "    }\n",
       "</style>\n",
       "<table border=\"1\" class=\"dataframe\">\n",
       "  <thead>\n",
       "    <tr>\n",
       "      <th></th>\n",
       "      <th colspan=\"4\" halign=\"left\">Buy</th>\n",
       "      <th colspan=\"4\" halign=\"left\">Sell</th>\n",
       "    </tr>\n",
       "    <tr>\n",
       "      <th></th>\n",
       "      <th>open</th>\n",
       "      <th>high</th>\n",
       "      <th>low</th>\n",
       "      <th>close</th>\n",
       "      <th>open</th>\n",
       "      <th>high</th>\n",
       "      <th>low</th>\n",
       "      <th>close</th>\n",
       "    </tr>\n",
       "    <tr>\n",
       "      <th>DateTime</th>\n",
       "      <th></th>\n",
       "      <th></th>\n",
       "      <th></th>\n",
       "      <th></th>\n",
       "      <th></th>\n",
       "      <th></th>\n",
       "      <th></th>\n",
       "      <th></th>\n",
       "    </tr>\n",
       "  </thead>\n",
       "  <tbody>\n",
       "    <tr>\n",
       "      <th>2018-12-09 17:00:00</th>\n",
       "      <td>112.611</td>\n",
       "      <td>112.612</td>\n",
       "      <td>112.611</td>\n",
       "      <td>112.612</td>\n",
       "      <td>112.638</td>\n",
       "      <td>112.638</td>\n",
       "      <td>112.638</td>\n",
       "      <td>112.638</td>\n",
       "    </tr>\n",
       "    <tr>\n",
       "      <th>2018-12-09 17:01:00</th>\n",
       "      <td>112.611</td>\n",
       "      <td>112.619</td>\n",
       "      <td>112.611</td>\n",
       "      <td>112.619</td>\n",
       "      <td>112.638</td>\n",
       "      <td>112.655</td>\n",
       "      <td>112.638</td>\n",
       "      <td>112.646</td>\n",
       "    </tr>\n",
       "    <tr>\n",
       "      <th>2018-12-09 17:02:00</th>\n",
       "      <td>112.625</td>\n",
       "      <td>112.625</td>\n",
       "      <td>112.624</td>\n",
       "      <td>112.624</td>\n",
       "      <td>112.652</td>\n",
       "      <td>112.652</td>\n",
       "      <td>112.652</td>\n",
       "      <td>112.652</td>\n",
       "    </tr>\n",
       "    <tr>\n",
       "      <th>2018-12-09 17:03:00</th>\n",
       "      <td>112.629</td>\n",
       "      <td>112.631</td>\n",
       "      <td>112.629</td>\n",
       "      <td>112.631</td>\n",
       "      <td>112.666</td>\n",
       "      <td>112.666</td>\n",
       "      <td>112.658</td>\n",
       "      <td>112.658</td>\n",
       "    </tr>\n",
       "    <tr>\n",
       "      <th>2018-12-09 17:04:00</th>\n",
       "      <td>112.629</td>\n",
       "      <td>112.674</td>\n",
       "      <td>112.627</td>\n",
       "      <td>112.640</td>\n",
       "      <td>112.662</td>\n",
       "      <td>112.704</td>\n",
       "      <td>112.662</td>\n",
       "      <td>112.685</td>\n",
       "    </tr>\n",
       "  </tbody>\n",
       "</table>\n",
       "</div>"
      ],
      "text/plain": [
       "                         Buy                                Sell           \\\n",
       "                        open     high      low    close     open     high   \n",
       "DateTime                                                                    \n",
       "2018-12-09 17:00:00  112.611  112.612  112.611  112.612  112.638  112.638   \n",
       "2018-12-09 17:01:00  112.611  112.619  112.611  112.619  112.638  112.655   \n",
       "2018-12-09 17:02:00  112.625  112.625  112.624  112.624  112.652  112.652   \n",
       "2018-12-09 17:03:00  112.629  112.631  112.629  112.631  112.666  112.666   \n",
       "2018-12-09 17:04:00  112.629  112.674  112.627  112.640  112.662  112.704   \n",
       "\n",
       "                                       \n",
       "                         low    close  \n",
       "DateTime                               \n",
       "2018-12-09 17:00:00  112.638  112.638  \n",
       "2018-12-09 17:01:00  112.638  112.646  \n",
       "2018-12-09 17:02:00  112.652  112.652  \n",
       "2018-12-09 17:03:00  112.658  112.658  \n",
       "2018-12-09 17:04:00  112.662  112.685  "
      ]
     },
     "execution_count": 14,
     "metadata": {},
     "output_type": "execute_result"
    }
   ],
   "source": [
    "# 1分足データに変換する\n",
    "data1M = df.resample('1Min',how='ohlc')\n",
    "# 最初の５行を表示\n",
    "data1M.head()"
   ]
  },
  {
   "cell_type": "code",
   "execution_count": null,
   "metadata": {
    "collapsed": true
   },
   "outputs": [],
   "source": []
  }
 ],
 "metadata": {
  "kernelspec": {
   "display_name": "Python 3",
   "language": "python",
   "name": "python3"
  },
  "language_info": {
   "codemirror_mode": {
    "name": "ipython",
    "version": 3
   },
   "file_extension": ".py",
   "mimetype": "text/x-python",
   "name": "python",
   "nbconvert_exporter": "python",
   "pygments_lexer": "ipython3",
   "version": "3.6.1"
  }
 },
 "nbformat": 4,
 "nbformat_minor": 2
}
